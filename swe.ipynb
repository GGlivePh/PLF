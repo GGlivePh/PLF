{
  "cells": [
    {
      "cell_type": "markdown",
      "metadata": {
        "id": "view-in-github",
        "colab_type": "text"
      },
      "source": [
        "<a href=\"https://colab.research.google.com/github/GGlivePh/PLF/blob/main/swe.ipynb\" target=\"_parent\"><img src=\"https://colab.research.google.com/assets/colab-badge.svg\" alt=\"Open In Colab\"/></a>"
      ]
    },
    {
      "cell_type": "code",
      "source": [
        "!git clone https://github.com/GGlivePh/PLF.git"
      ],
      "metadata": {
        "outputId": "f2983208-3112-46e4-e928-128d0ed3dc02",
        "colab": {
          "base_uri": "https://localhost:8080/"
        },
        "id": "5ing9chEe4lT"
      },
      "execution_count": 108,
      "outputs": [
        {
          "output_type": "stream",
          "name": "stdout",
          "text": [
            "Cloning into 'PLF'...\n",
            "remote: Enumerating objects: 21, done.\u001b[K\n",
            "remote: Counting objects: 100% (21/21), done.\u001b[K\n",
            "remote: Compressing objects: 100% (21/21), done.\u001b[K\n",
            "remote: Total 21 (delta 5), reused 0 (delta 0), pack-reused 0 (from 0)\u001b[K\n",
            "Receiving objects: 100% (21/21), 119.55 KiB | 1.23 MiB/s, done.\n",
            "Resolving deltas: 100% (5/5), done.\n"
          ]
        }
      ]
    },
    {
      "cell_type": "code",
      "source": [
        "import os\n",
        "import xml\n",
        "import qrcode\n",
        "import xml.etree.ElementTree as ET\n",
        "import io\n",
        "import base64\n",
        "from joblib import Parallel, delayed\n",
        "import subprocess\n",
        "\n",
        "os.environ['MAGICK_MEMORY_LIMIT'] = '28GB' # increase to a higher value if needed\n",
        "os.environ['MAGICK_DISK_LIMIT'] = '28GB' # increase to a higher value if needed\n",
        "DATE=\"2024-11-26\"\n",
        "\n",
        "\n",
        "n_labs = 24\n",
        "START= 0\n",
        "\n",
        "configs ={\n",
        "    \"large\":{\n",
        "        \"N_REPS\": 2,\n",
        "        \"n_blanks\": 0,\n",
        "        \"OUT_DIR\": \"labels-large\",\n",
        "        \"TEMPLATE\": \"template_large.svg\",\n",
        "        \"TILES\":  \"4x12\"\n",
        "    },\n",
        "\n",
        "\n",
        "    \"small\":{\n",
        "        \"N_REPS\":3,\n",
        "        \"n_blanks\" : 8,\n",
        "        \"OUT_DIR\": \"labels\",\n",
        "        \"TEMPLATE\": \"template.svg\",\n",
        "        \"TILES\":  \"5x16\"}\n",
        "}\n",
        "\n",
        "\n",
        "def convert(output):\n",
        "    png = os.path.splitext(output)[0] + \".png\"\n",
        "    subprocess.run([\"convert\",  \"-density\", \"1200\",output,  png])\n",
        "    assert os.path.isfile(png)\n",
        "\n",
        "\n",
        "def make_one_lab(args):\n",
        "    i,conf = args\n",
        "\n",
        "    lab = f\"{DATE}_{i:04d}\"\n",
        "    if i >= START + n_labs:\n",
        "        root[2][0][0].text = \"DUMMY!\"\n",
        "        img = qrcode.make(lab)\n",
        "        n_rep = 1\n",
        "    else:\n",
        "        root[2][0][0].text = lab\n",
        "        img = qrcode.make(lab)\n",
        "        n_rep = conf[\"N_REPS\"]\n",
        "\n",
        "    with io.BytesIO() as output:\n",
        "        img.save(output, format=\"PNG\")\n",
        "        content = base64.b64encode(output.getbuffer())\n",
        "\n",
        "    new_image = b\"data:image/png;base64,\" + content\n",
        "    root[2][2].attrib[\"{http://www.w3.org/1999/xlink}href\"] = new_image.decode()\n",
        "\n",
        "    for rep in range(n_rep):\n",
        "        output = f\"{conf['OUT_DIR']}/{lab}-{rep}.svg\"\n",
        "        with open(output, \"wb\") as f:\n",
        "            tree.write(f)\n",
        "            convert(output)\n",
        "\n",
        "for mode,conf in configs.items():\n",
        "    os.makedirs(conf[\"OUT_DIR\"],exist_ok=True)\n",
        "    tree = ET.parse(conf[\"TEMPLATE\"])\n",
        "    root = tree.getroot()\n",
        "\n",
        "    Parallel(n_jobs=1, prefer=\"processes\")(\n",
        "        delayed(make_one_lab)((i, conf))  for i in range(START, START+n_labs + conf[\"n_blanks\"])\n",
        "    )\n",
        "    tmp_file = \"/tmp/all_labels.png\"\n",
        "    command = f'montage {conf[\"OUT_DIR\"]}/{DATE}*.png -tile {conf[\"TILES\"]} -geometry +0+0 {tmp_file}'\n",
        "    print(command)\n",
        "    os.system(command)\n",
        "    command = f'mogrify -gravity center -extent  9763x14009 {tmp_file}'\n",
        "    print(command)\n",
        "    os.system(command)\n",
        "    command = f'convert {tmp_file} -page a4 {DATE}_{mode}_labels.pdf'\n",
        "    print(command)\n",
        "    os.system(command)\n",
        "\n",
        "    !for i in *.svg; do convert   -density 1200 $i  $(echo $i | sed s/svg/png/g); done\n",
        "\n",
        "    !montage  2024-*.png  -tile 4x12   -geometry +0+0 all_labs.png\n",
        "    !mogrify -gravity center -extent  9763x14009 all_labs.png && convert all_labs.png  -page a4 all_labs.pdf\n",
        "    # #"
      ],
      "metadata": {
        "outputId": "f3231e98-de84-4e27-bd48-7de76290b72c",
        "colab": {
          "base_uri": "https://localhost:8080/"
        },
        "id": "-kKDPA2OadXk"
      },
      "execution_count": 92,
      "outputs": [
        {
          "output_type": "stream",
          "name": "stdout",
          "text": [
            "montage labels-large/2024-11-26*.png -tile 4x12 -geometry +0+0 /tmp/all_labels.png\n",
            "mogrify -gravity center -extent  9763x14009 /tmp/all_labels.png\n",
            "convert /tmp/all_labels.png -page a4 2024-11-26_large_labels.pdf\n",
            "mogrify-im6.q16: cache resources exhausted `all_labs.png' @ error/cache.c/OpenPixelCache/4095.\n",
            "montage labels/2024-11-26*.png -tile 5x16 -geometry +0+0 /tmp/all_labels.png\n",
            "mogrify -gravity center -extent  9763x14009 /tmp/all_labels.png\n",
            "convert /tmp/all_labels.png -page a4 2024-11-26_small_labels.pdf\n",
            "mogrify-im6.q16: cache resources exhausted `all_labs.png' @ error/cache.c/OpenPixelCache/4095.\n"
          ]
        }
      ]
    },
    {
      "cell_type": "code",
      "source": [
        "!whereis magick"
      ],
      "metadata": {
        "colab": {
          "base_uri": "https://localhost:8080/"
        },
        "id": "yaicV1crcpHE",
        "outputId": "00f7b27a-9cfe-42b7-c27d-eba696429bef"
      },
      "execution_count": 97,
      "outputs": [
        {
          "output_type": "stream",
          "name": "stdout",
          "text": [
            "magick:\n"
          ]
        }
      ]
    },
    {
      "cell_type": "code",
      "source": [
        "import os\n",
        "import xml\n",
        "import qrcode\n",
        "import xml.etree.ElementTree as ET\n",
        "import io\n",
        "import base64\n",
        "from joblib import Parallel, delayed\n",
        "import subprocess\n",
        "\n",
        "\n",
        "DATE = \"2024-11-26\"\n",
        "n_labs = 24\n",
        "START = 1\n",
        "\n",
        "configs = {\n",
        "    \"large\": {\n",
        "        \"N_REPS\": 2,\n",
        "        \"n_blanks\": 0,\n",
        "        \"OUT_DIR\": \"labels-large\",\n",
        "        \"TEMPLATE\": \"template_large.svg\",\n",
        "        \"TILES\": \"4x12\",\n",
        "    },\n",
        "    \"small\": {\n",
        "        \"N_REPS\": 3,\n",
        "        \"n_blanks\": 8,\n",
        "        \"OUT_DIR\": \"labels\",\n",
        "        \"TEMPLATE\": \"template.svg\",\n",
        "        \"TILES\": \"5x16\",\n",
        "    },\n",
        "}\n",
        "\n",
        "\n",
        "def convert(output):\n",
        "    png = os.path.splitext(output)[0] + \".png\"\n",
        "    # Use 'convert' instead of 'magick'\n",
        "    subprocess.run([\"convert\", \"-density\", \"1200\", output, png])\n",
        "    assert os.path.isfile(png)\n",
        "\n",
        "\n",
        "def make_one_lab(args):\n",
        "    i, conf = args\n",
        "\n",
        "    lab = f\"{DATE}_{i:04d}\"\n",
        "    if i >= START + n_labs:\n",
        "        root[2][0][0].text = \"DUMMY!\"\n",
        "        img = qrcode.make(lab)\n",
        "        n_rep = 1\n",
        "    else:\n",
        "        root[2][0][0].text = lab\n",
        "        img = qrcode.make(lab)\n",
        "        n_rep = conf[\"N_REPS\"]\n",
        "\n",
        "    with io.BytesIO() as output:\n",
        "        img.save(output, format=\"PNG\")\n",
        "        content = base64.b64encode(output.getbuffer())\n",
        "\n",
        "    new_image = b\"data:image/png;base64,\" + content\n",
        "    root[2][2].attrib[\"{http://www.w3.org/1999/xlink}href\"] = new_image.decode()\n",
        "\n",
        "    for rep in range(n_rep):\n",
        "        output = f\"{conf['OUT_DIR']}/{lab}-{rep}.svg\"\n",
        "        with open(output, \"wb\") as f:\n",
        "            tree.write(f)\n",
        "            convert(output)\n",
        "\n",
        "for mode, conf in configs.items():\n",
        "    os.makedirs(conf[\"OUT_DIR\"], exist_ok=True)\n",
        "    tree = ET.parse(conf[\"TEMPLATE\"])\n",
        "    root = tree.getroot()\n",
        "\n",
        "    Parallel(n_jobs=1, prefer=\"processes\")(\n",
        "        delayed(make_one_lab)((i, conf))\n",
        "        for i in range(START, START + n_labs + conf[\"n_blanks\"])\n",
        "    )\n",
        "    tmp_file = \"/tmp/all_labels.png\"\n",
        "\n",
        "    # Set ImageMagick environment variables\n",
        "    os.environ['MAGICK_MEMORY_LIMIT'] = '28GB'\n",
        "    os.environ['MAGICK_DISK_LIMIT'] = '28GB'\n",
        "\n",
        "\n",
        "    command = (\n",
        "        f'montage {conf[\"OUT_DIR\"]}/{DATE}*.png -tile {conf[\"TILES\"]} '\n",
        "        f'-geometry +0+0 {tmp_file}'\n",
        "    )\n",
        "    print(command)\n",
        "    # Update this line to use 'convert' for montage as well\n",
        "    os.system(command.replace(\"magick\", \"convert\"))\n",
        "\n",
        "    command = f'mogrify -gravity center -extent  9763x14009 {tmp_file}'\n",
        "    print(command)\n",
        "    # Update this line to use 'convert' for mogrify as well\n",
        "    os.system(command.replace(\"magick\", \"convert\"))\n",
        "\n",
        "    command = f'magick {tmp_file} -page a4 {DATE}_{mode}_labels.pdf'\n",
        "    print(command)\n",
        "    # Update this line to use 'convert' for the final conversion to PDF\n",
        ""
      ],
      "metadata": {
        "id": "_JWraCDacguT",
        "outputId": "0ae15c8d-5040-4edb-dfd0-0ef16eaad911",
        "colab": {
          "base_uri": "https://localhost:8080/"
        }
      },
      "execution_count": 101,
      "outputs": [
        {
          "output_type": "stream",
          "name": "stdout",
          "text": [
            "montage labels-large/2024-11-26*.png -tile 4x12 -geometry +0+0 /tmp/all_labels.png\n",
            "mogrify -gravity center -extent  9763x14009 /tmp/all_labels.png\n",
            "magick /tmp/all_labels.png -page a4 2024-11-26_large_labels.pdf\n",
            "montage labels/2024-11-26*.png -tile 5x16 -geometry +0+0 /tmp/all_labels.png\n",
            "mogrify -gravity center -extent  9763x14009 /tmp/all_labels.png\n",
            "magick /tmp/all_labels.png -page a4 2024-11-26_small_labels.pdf\n"
          ]
        }
      ]
    },
    {
      "cell_type": "code",
      "source": [
        "import os\n",
        "print(os.getcwd()) # Print the current working directory\n",
        "#os.chdir('PLF')  # Change to the correct directory"
      ],
      "metadata": {
        "id": "qNWQbWTmzZYj",
        "outputId": "206a5ef4-16bb-4412-cfb3-50db30a0a912",
        "colab": {
          "base_uri": "https://localhost:8080/"
        }
      },
      "execution_count": 109,
      "outputs": [
        {
          "output_type": "stream",
          "name": "stdout",
          "text": [
            "/content/QG/SelRas/PLF\n"
          ]
        }
      ]
    },
    {
      "cell_type": "code",
      "source": [
        "!git clone https://github.com/GGlivePh/PLF.git"
      ],
      "metadata": {
        "id": "X6I057zU0exM",
        "colab": {
          "base_uri": "https://localhost:8080/"
        },
        "outputId": "e21e1efe-599b-44c9-a787-a38ed50f1f62"
      },
      "execution_count": 68,
      "outputs": [
        {
          "output_type": "stream",
          "name": "stdout",
          "text": [
            "Cloning into 'PLF'...\n",
            "remote: Enumerating objects: 21, done.\u001b[K\n",
            "remote: Counting objects: 100% (21/21), done.\u001b[K\n",
            "remote: Compressing objects: 100% (21/21), done.\u001b[K\n",
            "remote: Total 21 (delta 5), reused 0 (delta 0), pack-reused 0 (from 0)\u001b[K\n",
            "Receiving objects: 100% (21/21), 119.55 KiB | 1.16 MiB/s, done.\n",
            "Resolving deltas: 100% (5/5), done.\n"
          ]
        }
      ]
    },
    {
      "cell_type": "code",
      "source": [
        "import os\n",
        "os.chdir('PLF')"
      ],
      "metadata": {
        "id": "d8POwgNw12qv"
      },
      "execution_count": 69,
      "outputs": []
    },
    {
      "cell_type": "code",
      "source": [
        "!apt-get update\n",
        "!apt-get install imagemagick -y"
      ],
      "metadata": {
        "id": "hJbSEln_WLlW",
        "outputId": "6824fb5c-a2bb-4136-ef7e-5b352ac65594",
        "colab": {
          "base_uri": "https://localhost:8080/"
        }
      },
      "execution_count": 75,
      "outputs": [
        {
          "output_type": "stream",
          "name": "stdout",
          "text": [
            "\r0% [Working]\r            \rHit:1 https://cloud.r-project.org/bin/linux/ubuntu jammy-cran40/ InRelease\n",
            "Hit:2 https://developer.download.nvidia.com/compute/cuda/repos/ubuntu2204/x86_64  InRelease\n",
            "Get:3 http://security.ubuntu.com/ubuntu jammy-security InRelease [129 kB]\n",
            "Hit:4 http://archive.ubuntu.com/ubuntu jammy InRelease\n",
            "Get:5 http://archive.ubuntu.com/ubuntu jammy-updates InRelease [128 kB]\n",
            "Hit:6 https://r2u.stat.illinois.edu/ubuntu jammy InRelease\n",
            "Hit:7 https://ppa.launchpadcontent.net/deadsnakes/ppa/ubuntu jammy InRelease\n",
            "Hit:8 https://ppa.launchpadcontent.net/graphics-drivers/ppa/ubuntu jammy InRelease\n",
            "Hit:9 https://ppa.launchpadcontent.net/ubuntugis/ppa/ubuntu jammy InRelease\n",
            "Get:10 http://archive.ubuntu.com/ubuntu jammy-backports InRelease [127 kB]\n",
            "Fetched 384 kB in 2s (180 kB/s)\n",
            "Reading package lists... Done\n",
            "W: Skipping acquire of configured file 'main/source/Sources' as repository 'https://r2u.stat.illinois.edu/ubuntu jammy InRelease' does not seem to provide it (sources.list entry misspelt?)\n",
            "Reading package lists... Done\n",
            "Building dependency tree... Done\n",
            "Reading state information... Done\n",
            "imagemagick is already the newest version (8:6.9.11.60+dfsg-1.3ubuntu0.22.04.5).\n",
            "0 upgraded, 0 newly installed, 0 to remove and 49 not upgraded.\n"
          ]
        }
      ]
    },
    {
      "cell_type": "code",
      "source": [
        "!apt-get update\n",
        "!apt-get remove imagemagick\n",
        "!apt-get install imagemagick -y\n",
        "!which magick"
      ],
      "metadata": {
        "id": "bs1XTUA_WO9K",
        "outputId": "576cabfb-150e-4bb0-c387-1054ff2a8136",
        "colab": {
          "base_uri": "https://localhost:8080/"
        }
      },
      "execution_count": 81,
      "outputs": [
        {
          "output_type": "stream",
          "name": "stdout",
          "text": [
            "\r0% [Working]\r            \rHit:1 https://cloud.r-project.org/bin/linux/ubuntu jammy-cran40/ InRelease\n",
            "Hit:2 https://developer.download.nvidia.com/compute/cuda/repos/ubuntu2204/x86_64  InRelease\n",
            "Hit:3 http://security.ubuntu.com/ubuntu jammy-security InRelease\n",
            "Hit:4 http://archive.ubuntu.com/ubuntu jammy InRelease\n",
            "Hit:5 http://archive.ubuntu.com/ubuntu jammy-updates InRelease\n",
            "Hit:6 https://r2u.stat.illinois.edu/ubuntu jammy InRelease\n",
            "Hit:7 http://archive.ubuntu.com/ubuntu jammy-backports InRelease\n",
            "Hit:8 https://ppa.launchpadcontent.net/deadsnakes/ppa/ubuntu jammy InRelease\n",
            "Hit:9 https://ppa.launchpadcontent.net/graphics-drivers/ppa/ubuntu jammy InRelease\n",
            "Hit:10 https://ppa.launchpadcontent.net/ubuntugis/ppa/ubuntu jammy InRelease\n",
            "Reading package lists... Done\n",
            "W: Skipping acquire of configured file 'main/source/Sources' as repository 'https://r2u.stat.illinois.edu/ubuntu jammy InRelease' does not seem to provide it (sources.list entry misspelt?)\n",
            "Reading package lists... Done\n",
            "Building dependency tree... Done\n",
            "Reading state information... Done\n",
            "The following packages will be REMOVED:\n",
            "  imagemagick\n",
            "0 upgraded, 0 newly installed, 1 to remove and 49 not upgraded.\n",
            "After this operation, 124 kB disk space will be freed.\n",
            "(Reading database ... 130909 files and directories currently installed.)\n",
            "Removing imagemagick (8:6.9.11.60+dfsg-1.3ubuntu0.22.04.5) ...\n",
            "Reading package lists... Done\n",
            "Building dependency tree... Done\n",
            "Reading state information... Done\n",
            "The following NEW packages will be installed:\n",
            "  imagemagick\n",
            "0 upgraded, 1 newly installed, 0 to remove and 49 not upgraded.\n",
            "Need to get 14.6 kB of archives.\n",
            "After this operation, 124 kB of additional disk space will be used.\n",
            "Get:1 http://archive.ubuntu.com/ubuntu jammy-updates/universe amd64 imagemagick amd64 8:6.9.11.60+dfsg-1.3ubuntu0.22.04.5 [14.6 kB]\n",
            "Fetched 14.6 kB in 1s (23.4 kB/s)\n",
            "Selecting previously unselected package imagemagick.\n",
            "(Reading database ... 130904 files and directories currently installed.)\n",
            "Preparing to unpack .../imagemagick_8%3a6.9.11.60+dfsg-1.3ubuntu0.22.04.5_amd64.deb ...\n",
            "Unpacking imagemagick (8:6.9.11.60+dfsg-1.3ubuntu0.22.04.5) ...\n",
            "Setting up imagemagick (8:6.9.11.60+dfsg-1.3ubuntu0.22.04.5) ...\n"
          ]
        }
      ]
    },
    {
      "cell_type": "code",
      "source": [
        "import os\n",
        "import xml\n",
        "import qrcode\n",
        "import xml.etree.ElementTree as ET\n",
        "import io\n",
        "import base64\n",
        "from joblib import Parallel, delayed\n",
        "import subprocess\n",
        "\n",
        "\n",
        "DATE=\"2024-11-26\"\n",
        "\n",
        "\n",
        "n_labs = 24\n",
        "START= 0\n",
        "\n",
        "configs ={\n",
        "    \"large\":{\n",
        "        \"N_REPS\": 2,\n",
        "        \"n_blanks\": 0,\n",
        "        \"OUT_DIR\": \"labels-large\",\n",
        "        \"TEMPLATE\": \"template_large.svg\",\n",
        "        \"TILES\":  \"4x12\"\n",
        "    },\n",
        "\n",
        "\n",
        "    \"small\":{\n",
        "        \"N_REPS\":3,\n",
        "        \"n_blanks\" : 8,\n",
        "        \"OUT_DIR\": \"labels\",\n",
        "        \"TEMPLATE\": \"template.svg\",\n",
        "        \"TILES\":  \"5x16\"}\n",
        "}\n",
        "\n",
        "\n",
        "def convert(output):\n",
        "    png = os.path.splitext(output)[0] + \".png\"\n",
        "    subprocess.run([\"convert\",  \"-density\", \"1200\",output,  png])\n",
        "    assert os.path.isfile(png)\n",
        "\n",
        "\n",
        "def make_one_lab(args):\n",
        "    i,conf = args\n",
        "\n",
        "    lab = f\"{DATE}_{i:04d}\"\n",
        "    if i >= START + n_labs:\n",
        "        root[2][0][0].text = \"DUMMY!\"\n",
        "        img = qrcode.make(lab)\n",
        "        n_rep = 1\n",
        "    else:\n",
        "        root[2][0][0].text = lab\n",
        "        img = qrcode.make(lab)\n",
        "        n_rep = conf[\"N_REPS\"]\n",
        "\n",
        "    with io.BytesIO() as output:\n",
        "        img.save(output, format=\"PNG\")\n",
        "        content = base64.b64encode(output.getbuffer())\n",
        "\n",
        "    new_image = b\"data:image/png;base64,\" + content\n",
        "    root[2][2].attrib[\"{http://www.w3.org/1999/xlink}href\"] = new_image.decode()\n",
        "\n",
        "    for rep in range(n_rep):\n",
        "        output = f\"{conf['OUT_DIR']}/{lab}-{rep}.svg\"\n",
        "        with open(output, \"wb\") as f:\n",
        "            tree.write(f)\n",
        "            convert(output)\n",
        "\n",
        "for mode,conf in configs.items():\n",
        "    os.makedirs(conf[\"OUT_DIR\"],exist_ok=True)\n",
        "    tree = ET.parse(conf[\"TEMPLATE\"])\n",
        "    root = tree.getroot()\n",
        "\n",
        "    Parallel(n_jobs=1, prefer=\"processes\")(\n",
        "        delayed(make_one_lab)((i, conf))  for i in range(START, START+n_labs + conf[\"n_blanks\"])\n",
        "    )\n",
        "    tmp_file = \"/tmp/all_labels.png\"\n",
        "    command = f'montage {conf[\"OUT_DIR\"]}/{DATE}*.png -tile {conf[\"TILES\"]} -geometry +0+0 {tmp_file}'\n",
        "    print(command)\n",
        "    os.system(command)\n",
        "    command = f'mogrify -gravity center -extent  9763x14009 {tmp_file}'\n",
        "    print(command)\n",
        "    os.system(command)\n",
        "    command = f'convert {tmp_file} -page a4 {DATE}_{mode}_labels.pdf'\n",
        "    print(command)\n",
        "    os.system(command)\n",
        "\n",
        "    !for i in *.svg; do convert   -density 1200 $i  $(echo $i | sed s/svg/png/g); done\n",
        "\n",
        "    !montage  2024-*.png  -tile 4x12   -geometry +0+0 all_labs.png\n",
        "    !mogrify -gravity center -extent  9763x14009 all_labs.png && convert all_labs.png  -page a4 all_labs.pdf\n",
        "    # #"
      ],
      "metadata": {
        "colab": {
          "base_uri": "https://localhost:8080/"
        },
        "id": "boy9ZYeUVqM6",
        "outputId": "23333f8d-dfd6-4610-d289-f23fd3db22ea"
      },
      "execution_count": 88,
      "outputs": [
        {
          "output_type": "stream",
          "name": "stdout",
          "text": [
            "montage labels-large/2024-11-26*.png -tile 4x12 -geometry +0+0 /tmp/all_labels.png\n",
            "mogrify -gravity center -extent  9763x14009 /tmp/all_labels.png\n",
            "convert /tmp/all_labels.png -page a4 2024-11-26_large_labels.pdf\n",
            "mogrify-im6.q16: cache resources exhausted `all_labs.png' @ error/cache.c/OpenPixelCache/4095.\n",
            "montage labels/2024-11-26*.png -tile 5x16 -geometry +0+0 /tmp/all_labels.png\n",
            "mogrify -gravity center -extent  9763x14009 /tmp/all_labels.png\n",
            "convert /tmp/all_labels.png -page a4 2024-11-26_small_labels.pdf\n",
            "mogrify-im6.q16: cache resources exhausted `all_labs.png' @ error/cache.c/OpenPixelCache/4095.\n"
          ]
        }
      ]
    }
  ],
  "metadata": {
    "kernelspec": {
      "display_name": "Python 3 (ipykernel)",
      "language": "python",
      "name": "python3"
    },
    "language_info": {
      "codemirror_mode": {
        "name": "ipython",
        "version": 3
      },
      "file_extension": ".py",
      "mimetype": "text/x-python",
      "name": "python",
      "nbconvert_exporter": "python",
      "pygments_lexer": "ipython3",
      "version": "3.9.7"
    },
    "colab": {
      "provenance": [],
      "include_colab_link": true
    }
  },
  "nbformat": 4,
  "nbformat_minor": 0
}